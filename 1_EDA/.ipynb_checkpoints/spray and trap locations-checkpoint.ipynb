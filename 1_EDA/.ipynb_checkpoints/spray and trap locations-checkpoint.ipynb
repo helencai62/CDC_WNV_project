{
 "cells": [
  {
   "cell_type": "code",
   "execution_count": 1,
   "metadata": {},
   "outputs": [],
   "source": [
    "import pandas as pd"
   ]
  },
  {
   "cell_type": "code",
   "execution_count": 14,
   "metadata": {},
   "outputs": [],
   "source": [
    "data = pd.read_csv('../datasets/train.csv')\n",
    "unique_traps = data.drop_duplicates(subset='Trap')\n",
    "unique_traps = unique_traps[['Latitude','Longitude']]\n",
    "unique_traps['Type'] = 'Trap'"
   ]
  },
  {
   "cell_type": "code",
   "execution_count": 15,
   "metadata": {},
   "outputs": [],
   "source": [
    "spray = pd.read_csv('../datasets/spray.csv')\n",
    "spray = spray[['Latitude','Longitude']]\n",
    "spray['Type'] = 'Spray'"
   ]
  },
  {
   "cell_type": "code",
   "execution_count": 20,
   "metadata": {},
   "outputs": [],
   "source": [
    "spray_and_trap_loc = pd.concat([unique_traps, spray])\n",
    "spray_and_trap_loc.to_csv('../datasets/spray_and_trap_loc.csv')"
   ]
  }
 ],
 "metadata": {
  "kernelspec": {
   "display_name": "Python [conda env:dsi]",
   "language": "python",
   "name": "conda-env-dsi-py"
  },
  "language_info": {
   "codemirror_mode": {
    "name": "ipython",
    "version": 3
   },
   "file_extension": ".py",
   "mimetype": "text/x-python",
   "name": "python",
   "nbconvert_exporter": "python",
   "pygments_lexer": "ipython3",
   "version": "3.6.5"
  }
 },
 "nbformat": 4,
 "nbformat_minor": 2
}
