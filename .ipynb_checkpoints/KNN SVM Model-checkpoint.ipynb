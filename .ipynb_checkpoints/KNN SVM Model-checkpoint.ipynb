{
 "cells": [
  {
   "cell_type": "code",
   "execution_count": 52,
   "metadata": {},
   "outputs": [],
   "source": [
    "# Import libraries \n",
    "\n",
    "import pandas as pd\n",
    "import numpy as np\n",
    "import regex as re\n",
    "from sklearn import svm, linear_model\n",
    "from sklearn.linear_model import LogisticRegression, LinearRegression\n",
    "import matplotlib.pyplot as plt\n",
    "import seaborn as sns\n",
    "from sklearn.model_selection import train_test_split, GridSearchCV, cross_val_score, GridSearchCV\n",
    "from sklearn.metrics import roc_auc_score, confusion_matrix, accuracy_score\n",
    "\n",
    "from sklearn.pipeline import Pipeline, FeatureUnion\n",
    "from sklearn.preprocessing import StandardScaler\n",
    "from sklearn.neighbors import KNeighborsClassifier\n",
    "from sklearn.pipeline import Pipeline, FeatureUnion\n",
    "import warnings\n",
    "warnings.filterwarnings(\"ignore\")"
   ]
  },
  {
   "cell_type": "code",
   "execution_count": 53,
   "metadata": {},
   "outputs": [],
   "source": [
    "# Load in train/test data \n",
    "\n",
    "test = pd.read_csv('./test_merge_all.csv')\n",
    "train = pd.read_csv('./train_merge_all.csv')"
   ]
  },
  {
   "cell_type": "code",
   "execution_count": 54,
   "metadata": {},
   "outputs": [
    {
     "data": {
      "text/html": [
       "<div>\n",
       "<style scoped>\n",
       "    .dataframe tbody tr th:only-of-type {\n",
       "        vertical-align: middle;\n",
       "    }\n",
       "\n",
       "    .dataframe tbody tr th {\n",
       "        vertical-align: top;\n",
       "    }\n",
       "\n",
       "    .dataframe thead th {\n",
       "        text-align: right;\n",
       "    }\n",
       "</style>\n",
       "<table border=\"1\" class=\"dataframe\">\n",
       "  <thead>\n",
       "    <tr style=\"text-align: right;\">\n",
       "      <th></th>\n",
       "      <th>WnvPresent</th>\n",
       "    </tr>\n",
       "  </thead>\n",
       "  <tbody>\n",
       "    <tr>\n",
       "      <th>0</th>\n",
       "      <td>0</td>\n",
       "    </tr>\n",
       "    <tr>\n",
       "      <th>1</th>\n",
       "      <td>0</td>\n",
       "    </tr>\n",
       "    <tr>\n",
       "      <th>2</th>\n",
       "      <td>0</td>\n",
       "    </tr>\n",
       "    <tr>\n",
       "      <th>3</th>\n",
       "      <td>0</td>\n",
       "    </tr>\n",
       "    <tr>\n",
       "      <th>4</th>\n",
       "      <td>0</td>\n",
       "    </tr>\n",
       "  </tbody>\n",
       "</table>\n",
       "</div>"
      ],
      "text/plain": [
       "   WnvPresent\n",
       "0           0\n",
       "1           0\n",
       "2           0\n",
       "3           0\n",
       "4           0"
      ]
     },
     "execution_count": 54,
     "metadata": {},
     "output_type": "execute_result"
    }
   ],
   "source": [
    "# Load in target data \n",
    "\n",
    "target = pd.read_csv('target.csv')\n",
    "target.head()"
   ]
  },
  {
   "cell_type": "code",
   "execution_count": 55,
   "metadata": {},
   "outputs": [],
   "source": [
    "# Drop uncessary columns \n",
    "train= train.drop(['Unnamed: 0', 'Unnamed: 0.1', 'Unnamed: 0.1.1'], axis = 1)\n",
    "\n",
    "test = test.drop(['Unnamed: 0', 'Unnamed: 0.1', 'Unnamed: 0.1.1'], axis = 1)"
   ]
  },
  {
   "cell_type": "code",
   "execution_count": 56,
   "metadata": {
    "scrolled": true
   },
   "outputs": [
    {
     "data": {
      "text/html": [
       "<div>\n",
       "<style scoped>\n",
       "    .dataframe tbody tr th:only-of-type {\n",
       "        vertical-align: middle;\n",
       "    }\n",
       "\n",
       "    .dataframe tbody tr th {\n",
       "        vertical-align: top;\n",
       "    }\n",
       "\n",
       "    .dataframe thead th {\n",
       "        text-align: right;\n",
       "    }\n",
       "</style>\n",
       "<table border=\"1\" class=\"dataframe\">\n",
       "  <thead>\n",
       "    <tr style=\"text-align: right;\">\n",
       "      <th></th>\n",
       "      <th>Date</th>\n",
       "      <th>Species</th>\n",
       "      <th>Trap</th>\n",
       "      <th>Longitude</th>\n",
       "      <th>Latitude</th>\n",
       "      <th>Tmax</th>\n",
       "      <th>Tmin</th>\n",
       "      <th>Tavg</th>\n",
       "      <th>Depart</th>\n",
       "      <th>DewPoint</th>\n",
       "      <th>...</th>\n",
       "      <th>SnowFall</th>\n",
       "      <th>PrecipTotal</th>\n",
       "      <th>StnPressure</th>\n",
       "      <th>SeaLevel</th>\n",
       "      <th>ResultSpeed</th>\n",
       "      <th>ResultDir</th>\n",
       "      <th>AvgSpeed</th>\n",
       "      <th>DaysFromSpray</th>\n",
       "      <th>LogDays</th>\n",
       "      <th>SprayEffect</th>\n",
       "    </tr>\n",
       "  </thead>\n",
       "  <tbody>\n",
       "    <tr>\n",
       "      <th>0</th>\n",
       "      <td>2008-06-11</td>\n",
       "      <td>CULEX PIPIENS/RESTUANS</td>\n",
       "      <td>T002</td>\n",
       "      <td>-87.800991</td>\n",
       "      <td>41.95469</td>\n",
       "      <td>82.3</td>\n",
       "      <td>64.7</td>\n",
       "      <td>73.7</td>\n",
       "      <td>7.3</td>\n",
       "      <td>65.2</td>\n",
       "      <td>...</td>\n",
       "      <td>0.0</td>\n",
       "      <td>0.3</td>\n",
       "      <td>29.1</td>\n",
       "      <td>29.8</td>\n",
       "      <td>9.9</td>\n",
       "      <td>18.5</td>\n",
       "      <td>11.7</td>\n",
       "      <td>2242.0</td>\n",
       "      <td>7.71557</td>\n",
       "      <td>0.0</td>\n",
       "    </tr>\n",
       "    <tr>\n",
       "      <th>1</th>\n",
       "      <td>2008-06-11</td>\n",
       "      <td>CULEX RESTUANS</td>\n",
       "      <td>T002</td>\n",
       "      <td>-87.800991</td>\n",
       "      <td>41.95469</td>\n",
       "      <td>82.3</td>\n",
       "      <td>64.7</td>\n",
       "      <td>73.7</td>\n",
       "      <td>7.3</td>\n",
       "      <td>65.2</td>\n",
       "      <td>...</td>\n",
       "      <td>0.0</td>\n",
       "      <td>0.3</td>\n",
       "      <td>29.1</td>\n",
       "      <td>29.8</td>\n",
       "      <td>9.9</td>\n",
       "      <td>18.5</td>\n",
       "      <td>11.7</td>\n",
       "      <td>2242.0</td>\n",
       "      <td>7.71557</td>\n",
       "      <td>0.0</td>\n",
       "    </tr>\n",
       "    <tr>\n",
       "      <th>2</th>\n",
       "      <td>2008-06-11</td>\n",
       "      <td>CULEX PIPIENS</td>\n",
       "      <td>T002</td>\n",
       "      <td>-87.800991</td>\n",
       "      <td>41.95469</td>\n",
       "      <td>82.3</td>\n",
       "      <td>64.7</td>\n",
       "      <td>73.7</td>\n",
       "      <td>7.3</td>\n",
       "      <td>65.2</td>\n",
       "      <td>...</td>\n",
       "      <td>0.0</td>\n",
       "      <td>0.3</td>\n",
       "      <td>29.1</td>\n",
       "      <td>29.8</td>\n",
       "      <td>9.9</td>\n",
       "      <td>18.5</td>\n",
       "      <td>11.7</td>\n",
       "      <td>2242.0</td>\n",
       "      <td>7.71557</td>\n",
       "      <td>0.0</td>\n",
       "    </tr>\n",
       "    <tr>\n",
       "      <th>3</th>\n",
       "      <td>2008-06-11</td>\n",
       "      <td>CULEX SALINARIUS</td>\n",
       "      <td>T002</td>\n",
       "      <td>-87.800991</td>\n",
       "      <td>41.95469</td>\n",
       "      <td>82.3</td>\n",
       "      <td>64.7</td>\n",
       "      <td>73.7</td>\n",
       "      <td>7.3</td>\n",
       "      <td>65.2</td>\n",
       "      <td>...</td>\n",
       "      <td>0.0</td>\n",
       "      <td>0.3</td>\n",
       "      <td>29.1</td>\n",
       "      <td>29.8</td>\n",
       "      <td>9.9</td>\n",
       "      <td>18.5</td>\n",
       "      <td>11.7</td>\n",
       "      <td>2242.0</td>\n",
       "      <td>7.71557</td>\n",
       "      <td>0.0</td>\n",
       "    </tr>\n",
       "    <tr>\n",
       "      <th>4</th>\n",
       "      <td>2008-06-11</td>\n",
       "      <td>CULEX TERRITANS</td>\n",
       "      <td>T002</td>\n",
       "      <td>-87.800991</td>\n",
       "      <td>41.95469</td>\n",
       "      <td>82.3</td>\n",
       "      <td>64.7</td>\n",
       "      <td>73.7</td>\n",
       "      <td>7.3</td>\n",
       "      <td>65.2</td>\n",
       "      <td>...</td>\n",
       "      <td>0.0</td>\n",
       "      <td>0.3</td>\n",
       "      <td>29.1</td>\n",
       "      <td>29.8</td>\n",
       "      <td>9.9</td>\n",
       "      <td>18.5</td>\n",
       "      <td>11.7</td>\n",
       "      <td>2242.0</td>\n",
       "      <td>7.71557</td>\n",
       "      <td>0.0</td>\n",
       "    </tr>\n",
       "  </tbody>\n",
       "</table>\n",
       "<p>5 rows × 28 columns</p>\n",
       "</div>"
      ],
      "text/plain": [
       "         Date                 Species  Trap  Longitude  Latitude  Tmax  Tmin  \\\n",
       "0  2008-06-11  CULEX PIPIENS/RESTUANS  T002 -87.800991  41.95469  82.3  64.7   \n",
       "1  2008-06-11          CULEX RESTUANS  T002 -87.800991  41.95469  82.3  64.7   \n",
       "2  2008-06-11           CULEX PIPIENS  T002 -87.800991  41.95469  82.3  64.7   \n",
       "3  2008-06-11        CULEX SALINARIUS  T002 -87.800991  41.95469  82.3  64.7   \n",
       "4  2008-06-11         CULEX TERRITANS  T002 -87.800991  41.95469  82.3  64.7   \n",
       "\n",
       "   Tavg  Depart  DewPoint     ...       SnowFall  PrecipTotal  StnPressure  \\\n",
       "0  73.7     7.3      65.2     ...            0.0          0.3         29.1   \n",
       "1  73.7     7.3      65.2     ...            0.0          0.3         29.1   \n",
       "2  73.7     7.3      65.2     ...            0.0          0.3         29.1   \n",
       "3  73.7     7.3      65.2     ...            0.0          0.3         29.1   \n",
       "4  73.7     7.3      65.2     ...            0.0          0.3         29.1   \n",
       "\n",
       "   SeaLevel  ResultSpeed ResultDir  AvgSpeed  DaysFromSpray  LogDays  \\\n",
       "0      29.8          9.9      18.5      11.7         2242.0  7.71557   \n",
       "1      29.8          9.9      18.5      11.7         2242.0  7.71557   \n",
       "2      29.8          9.9      18.5      11.7         2242.0  7.71557   \n",
       "3      29.8          9.9      18.5      11.7         2242.0  7.71557   \n",
       "4      29.8          9.9      18.5      11.7         2242.0  7.71557   \n",
       "\n",
       "   SprayEffect  \n",
       "0          0.0  \n",
       "1          0.0  \n",
       "2          0.0  \n",
       "3          0.0  \n",
       "4          0.0  \n",
       "\n",
       "[5 rows x 28 columns]"
      ]
     },
     "execution_count": 56,
     "metadata": {},
     "output_type": "execute_result"
    }
   ],
   "source": [
    "test.head() #checking head of merged test dataframe"
   ]
  },
  {
   "cell_type": "code",
   "execution_count": 57,
   "metadata": {},
   "outputs": [
    {
     "data": {
      "text/html": [
       "<div>\n",
       "<style scoped>\n",
       "    .dataframe tbody tr th:only-of-type {\n",
       "        vertical-align: middle;\n",
       "    }\n",
       "\n",
       "    .dataframe tbody tr th {\n",
       "        vertical-align: top;\n",
       "    }\n",
       "\n",
       "    .dataframe thead th {\n",
       "        text-align: right;\n",
       "    }\n",
       "</style>\n",
       "<table border=\"1\" class=\"dataframe\">\n",
       "  <thead>\n",
       "    <tr style=\"text-align: right;\">\n",
       "      <th></th>\n",
       "      <th>Date</th>\n",
       "      <th>Species</th>\n",
       "      <th>Trap</th>\n",
       "      <th>Longitude</th>\n",
       "      <th>Latitude</th>\n",
       "      <th>Tmax</th>\n",
       "      <th>Tmin</th>\n",
       "      <th>Tavg</th>\n",
       "      <th>Depart</th>\n",
       "      <th>DewPoint</th>\n",
       "      <th>...</th>\n",
       "      <th>SnowFall</th>\n",
       "      <th>PrecipTotal</th>\n",
       "      <th>StnPressure</th>\n",
       "      <th>SeaLevel</th>\n",
       "      <th>ResultSpeed</th>\n",
       "      <th>ResultDir</th>\n",
       "      <th>AvgSpeed</th>\n",
       "      <th>DaysFromSpray</th>\n",
       "      <th>LogDays</th>\n",
       "      <th>SprayEffect</th>\n",
       "    </tr>\n",
       "  </thead>\n",
       "  <tbody>\n",
       "    <tr>\n",
       "      <th>0</th>\n",
       "      <td>2007-05-29</td>\n",
       "      <td>CULEX PIPIENS/RESTUANS</td>\n",
       "      <td>T002</td>\n",
       "      <td>-87.800991</td>\n",
       "      <td>41.954690</td>\n",
       "      <td>78.9</td>\n",
       "      <td>57.3</td>\n",
       "      <td>68.3</td>\n",
       "      <td>5.7</td>\n",
       "      <td>49.0</td>\n",
       "      <td>...</td>\n",
       "      <td>0.0</td>\n",
       "      <td>0.1</td>\n",
       "      <td>29.4</td>\n",
       "      <td>30.1</td>\n",
       "      <td>8.0</td>\n",
       "      <td>15.9</td>\n",
       "      <td>9.8</td>\n",
       "      <td>1500.0</td>\n",
       "      <td>7.313887</td>\n",
       "      <td>0.0</td>\n",
       "    </tr>\n",
       "    <tr>\n",
       "      <th>1</th>\n",
       "      <td>2007-05-29</td>\n",
       "      <td>CULEX RESTUANS</td>\n",
       "      <td>T002</td>\n",
       "      <td>-87.800991</td>\n",
       "      <td>41.954690</td>\n",
       "      <td>78.9</td>\n",
       "      <td>57.3</td>\n",
       "      <td>68.3</td>\n",
       "      <td>5.7</td>\n",
       "      <td>49.0</td>\n",
       "      <td>...</td>\n",
       "      <td>0.0</td>\n",
       "      <td>0.1</td>\n",
       "      <td>29.4</td>\n",
       "      <td>30.1</td>\n",
       "      <td>8.0</td>\n",
       "      <td>15.9</td>\n",
       "      <td>9.8</td>\n",
       "      <td>1500.0</td>\n",
       "      <td>7.313887</td>\n",
       "      <td>0.0</td>\n",
       "    </tr>\n",
       "    <tr>\n",
       "      <th>2</th>\n",
       "      <td>2007-05-29</td>\n",
       "      <td>CULEX RESTUANS</td>\n",
       "      <td>T007</td>\n",
       "      <td>-87.769279</td>\n",
       "      <td>41.994991</td>\n",
       "      <td>78.9</td>\n",
       "      <td>57.3</td>\n",
       "      <td>68.3</td>\n",
       "      <td>5.7</td>\n",
       "      <td>49.0</td>\n",
       "      <td>...</td>\n",
       "      <td>0.0</td>\n",
       "      <td>0.1</td>\n",
       "      <td>29.4</td>\n",
       "      <td>30.1</td>\n",
       "      <td>8.0</td>\n",
       "      <td>15.9</td>\n",
       "      <td>9.8</td>\n",
       "      <td>1500.0</td>\n",
       "      <td>7.313887</td>\n",
       "      <td>0.0</td>\n",
       "    </tr>\n",
       "    <tr>\n",
       "      <th>3</th>\n",
       "      <td>2007-05-29</td>\n",
       "      <td>CULEX PIPIENS/RESTUANS</td>\n",
       "      <td>T015</td>\n",
       "      <td>-87.824812</td>\n",
       "      <td>41.974089</td>\n",
       "      <td>78.9</td>\n",
       "      <td>57.3</td>\n",
       "      <td>68.3</td>\n",
       "      <td>5.7</td>\n",
       "      <td>49.0</td>\n",
       "      <td>...</td>\n",
       "      <td>0.0</td>\n",
       "      <td>0.1</td>\n",
       "      <td>29.4</td>\n",
       "      <td>30.1</td>\n",
       "      <td>8.0</td>\n",
       "      <td>15.9</td>\n",
       "      <td>9.8</td>\n",
       "      <td>1500.0</td>\n",
       "      <td>7.313887</td>\n",
       "      <td>0.0</td>\n",
       "    </tr>\n",
       "    <tr>\n",
       "      <th>4</th>\n",
       "      <td>2007-05-29</td>\n",
       "      <td>CULEX RESTUANS</td>\n",
       "      <td>T015</td>\n",
       "      <td>-87.824812</td>\n",
       "      <td>41.974089</td>\n",
       "      <td>78.9</td>\n",
       "      <td>57.3</td>\n",
       "      <td>68.3</td>\n",
       "      <td>5.7</td>\n",
       "      <td>49.0</td>\n",
       "      <td>...</td>\n",
       "      <td>0.0</td>\n",
       "      <td>0.1</td>\n",
       "      <td>29.4</td>\n",
       "      <td>30.1</td>\n",
       "      <td>8.0</td>\n",
       "      <td>15.9</td>\n",
       "      <td>9.8</td>\n",
       "      <td>1500.0</td>\n",
       "      <td>7.313887</td>\n",
       "      <td>0.0</td>\n",
       "    </tr>\n",
       "  </tbody>\n",
       "</table>\n",
       "<p>5 rows × 28 columns</p>\n",
       "</div>"
      ],
      "text/plain": [
       "         Date                 Species  Trap  Longitude   Latitude  Tmax  Tmin  \\\n",
       "0  2007-05-29  CULEX PIPIENS/RESTUANS  T002 -87.800991  41.954690  78.9  57.3   \n",
       "1  2007-05-29          CULEX RESTUANS  T002 -87.800991  41.954690  78.9  57.3   \n",
       "2  2007-05-29          CULEX RESTUANS  T007 -87.769279  41.994991  78.9  57.3   \n",
       "3  2007-05-29  CULEX PIPIENS/RESTUANS  T015 -87.824812  41.974089  78.9  57.3   \n",
       "4  2007-05-29          CULEX RESTUANS  T015 -87.824812  41.974089  78.9  57.3   \n",
       "\n",
       "   Tavg  Depart  DewPoint     ...       SnowFall  PrecipTotal  StnPressure  \\\n",
       "0  68.3     5.7      49.0     ...            0.0          0.1         29.4   \n",
       "1  68.3     5.7      49.0     ...            0.0          0.1         29.4   \n",
       "2  68.3     5.7      49.0     ...            0.0          0.1         29.4   \n",
       "3  68.3     5.7      49.0     ...            0.0          0.1         29.4   \n",
       "4  68.3     5.7      49.0     ...            0.0          0.1         29.4   \n",
       "\n",
       "   SeaLevel  ResultSpeed ResultDir  AvgSpeed  DaysFromSpray   LogDays  \\\n",
       "0      30.1          8.0      15.9       9.8         1500.0  7.313887   \n",
       "1      30.1          8.0      15.9       9.8         1500.0  7.313887   \n",
       "2      30.1          8.0      15.9       9.8         1500.0  7.313887   \n",
       "3      30.1          8.0      15.9       9.8         1500.0  7.313887   \n",
       "4      30.1          8.0      15.9       9.8         1500.0  7.313887   \n",
       "\n",
       "   SprayEffect  \n",
       "0          0.0  \n",
       "1          0.0  \n",
       "2          0.0  \n",
       "3          0.0  \n",
       "4          0.0  \n",
       "\n",
       "[5 rows x 28 columns]"
      ]
     },
     "execution_count": 57,
     "metadata": {},
     "output_type": "execute_result"
    }
   ],
   "source": [
    "train.head() #checking head of merged train dataframe "
   ]
  },
  {
   "cell_type": "code",
   "execution_count": 58,
   "metadata": {},
   "outputs": [
    {
     "data": {
      "text/plain": [
       "(10506, 28)"
      ]
     },
     "execution_count": 58,
     "metadata": {},
     "output_type": "execute_result"
    }
   ],
   "source": [
    "train.shape # Checking shape of train"
   ]
  },
  {
   "cell_type": "code",
   "execution_count": 59,
   "metadata": {
    "scrolled": true
   },
   "outputs": [
    {
     "data": {
      "text/plain": [
       "(10506, 1)"
      ]
     },
     "execution_count": 59,
     "metadata": {},
     "output_type": "execute_result"
    }
   ],
   "source": [
    "target.shape # Checking shape of target "
   ]
  },
  {
   "cell_type": "code",
   "execution_count": 60,
   "metadata": {},
   "outputs": [],
   "source": [
    "X_train, X_test, y_train, y_test = train_test_split(train, target, stratify = target, random_state=42)"
   ]
  },
  {
   "cell_type": "code",
   "execution_count": 61,
   "metadata": {
    "scrolled": true
   },
   "outputs": [
    {
     "name": "stdout",
     "output_type": "stream",
     "text": [
      "0    7466\n",
      "1     413\n",
      "Name: WnvPresent, dtype: int64\n",
      "\n",
      "Baseline accuracy: 0.9475821804797563\n"
     ]
    }
   ],
   "source": [
    "# baseline accuracy\n",
    "print(y_train['WnvPresent'].value_counts())\n",
    "print('\\nBaseline accuracy: '+str(max(y_train['WnvPresent'].value_counts()/y_train.shape[0])))"
   ]
  },
  {
   "cell_type": "code",
   "execution_count": 62,
   "metadata": {},
   "outputs": [
    {
     "data": {
      "text/plain": [
       "Index(['Date', 'Species', 'Trap', 'Longitude', 'Latitude', 'Tmax', 'Tmin',\n",
       "       'Tavg', 'Depart', 'DewPoint', 'WetBulb', 'Heat', 'Cool', 'Sunrise',\n",
       "       'Sunset', 'CodeSum', 'Depth', 'Water1', 'SnowFall', 'PrecipTotal',\n",
       "       'StnPressure', 'SeaLevel', 'ResultSpeed', 'ResultDir', 'AvgSpeed',\n",
       "       'DaysFromSpray', 'LogDays', 'SprayEffect'],\n",
       "      dtype='object')"
      ]
     },
     "execution_count": 62,
     "metadata": {},
     "output_type": "execute_result"
    }
   ],
   "source": [
    "X_train.columns"
   ]
  },
  {
   "cell_type": "code",
   "execution_count": 63,
   "metadata": {},
   "outputs": [
    {
     "name": "stdout",
     "output_type": "stream",
     "text": [
      "<class 'pandas.core.frame.DataFrame'>\n",
      "Int64Index: 7879 entries, 10140 to 6831\n",
      "Data columns (total 28 columns):\n",
      "Date             7879 non-null object\n",
      "Species          7879 non-null object\n",
      "Trap             7879 non-null object\n",
      "Longitude        7879 non-null float64\n",
      "Latitude         7879 non-null float64\n",
      "Tmax             7879 non-null float64\n",
      "Tmin             7879 non-null float64\n",
      "Tavg             7879 non-null float64\n",
      "Depart           7879 non-null float64\n",
      "DewPoint         7879 non-null float64\n",
      "WetBulb          7879 non-null float64\n",
      "Heat             7879 non-null float64\n",
      "Cool             7879 non-null float64\n",
      "Sunrise          7879 non-null float64\n",
      "Sunset           7879 non-null float64\n",
      "CodeSum          7879 non-null object\n",
      "Depth            7879 non-null float64\n",
      "Water1           7879 non-null float64\n",
      "SnowFall         7879 non-null float64\n",
      "PrecipTotal      7879 non-null float64\n",
      "StnPressure      7879 non-null float64\n",
      "SeaLevel         7879 non-null float64\n",
      "ResultSpeed      7879 non-null float64\n",
      "ResultDir        7879 non-null float64\n",
      "AvgSpeed         7879 non-null float64\n",
      "DaysFromSpray    7879 non-null float64\n",
      "LogDays          7879 non-null float64\n",
      "SprayEffect      7879 non-null float64\n",
      "dtypes: float64(24), object(4)\n",
      "memory usage: 1.7+ MB\n"
     ]
    }
   ],
   "source": [
    "X_train.info()"
   ]
  },
  {
   "cell_type": "code",
   "execution_count": 64,
   "metadata": {
    "scrolled": true
   },
   "outputs": [
    {
     "data": {
      "image/png": "[encoded data removed]",
      "text/plain": [
       "<matplotlib.figure.Figure at 0x115071cc0>"
      ]
     },
     "metadata": {},
     "output_type": "display_data"
    }
   ],
   "source": [
    "# look at correlation between numerical features\n",
    "fig = plt.figure(figsize=(16,12))\n",
    "sns.heatmap(abs(X_train.corr()),cmap='magma_r', );"
   ]
  },
  {
   "cell_type": "code",
   "execution_count": 65,
   "metadata": {},
   "outputs": [],
   "source": [
    "# Dropping some features \n",
    "drop_features = ['Depth','Water1','SnowFall']"
   ]
  },
  {
   "cell_type": "code",
   "execution_count": 66,
   "metadata": {},
   "outputs": [],
   "source": [
    "# some groups are highly correlation with each other, so only keep one feature in each group\n",
    "# however, want to check which will be best predictor of WNV\n",
    "train = pd.concat([X_train, y_train], axis=1)\n",
    "test = pd.concat([X_train, y_train], axis=1)"
   ]
  },
  {
   "cell_type": "code",
   "execution_count": 67,
   "metadata": {},
   "outputs": [
    {
     "data": {
      "image/png": "[encoded data removed]",
      "text/plain": [
       "<matplotlib.figure.Figure at 0x1a238e84e0>"
      ]
     },
     "metadata": {},
     "output_type": "display_data"
    }
   ],
   "source": [
    "# group 1: Tmax, Tmin, Tavg, DewPoint, WetBulb, Cool\n",
    "fig = plt.figure(figsize=(12,12))\n",
    "for i, feature in enumerate(['Tmax','Tmin','Tavg','DewPoint','WetBulb','Cool']):\n",
    "    ax = fig.add_subplot(2, 3, i+1)\n",
    "    sns.violinplot(y=feature, x='WnvPresent', data=train)\n",
    "    plt.suptitle('')\n",
    "    plt.tight_layout\n",
    "    ax.set_xlabel('')"
   ]
  },
  {
   "cell_type": "code",
   "execution_count": 68,
   "metadata": {},
   "outputs": [],
   "source": [
    "## keep dew point, Tmin and WetBulb - shows most variation between classes\n",
    "drop_features.extend(['Tmax','Tmin','Tavg','Cool'])"
   ]
  },
  {
   "cell_type": "code",
   "execution_count": 69,
   "metadata": {},
   "outputs": [
    {
     "data": {
      "image/png": "[encoded data removed]",
      "text/plain": [
       "<matplotlib.figure.Figure at 0x116481e10>"
      ]
     },
     "metadata": {},
     "output_type": "display_data"
    }
   ],
   "source": [
    "# group 2: Sunrise, Sunset\n",
    "fig = plt.figure(figsize=(8,6))\n",
    "for i, feature in enumerate(['Sunrise','Sunset']):\n",
    "    ax = fig.add_subplot(1, 2, i+1)\n",
    "    sns.violinplot(y=feature, x='WnvPresent', data=train)\n",
    "    plt.suptitle('')\n",
    "    plt.tight_layout\n",
    "    ax.set_xlabel('')"
   ]
  },
  {
   "cell_type": "code",
   "execution_count": 70,
   "metadata": {},
   "outputs": [
    {
     "data": {
      "image/png": "[encoded data removed]",
      "text/plain": [
       "<matplotlib.figure.Figure at 0x1150637f0>"
      ]
     },
     "metadata": {},
     "output_type": "display_data"
    }
   ],
   "source": [
    "train['DayLength'] = train['Sunset'] - train['Sunrise']\n",
    "sns.violinplot(y='DayLength', x='WnvPresent', data=train);"
   ]
  },
  {
   "cell_type": "code",
   "execution_count": 71,
   "metadata": {},
   "outputs": [],
   "source": [
    "## keep SprayEffect\n",
    "drop_features.extend(['LogDays','DaysFromSpray'])"
   ]
  },
  {
   "cell_type": "code",
   "execution_count": 72,
   "metadata": {},
   "outputs": [
    {
     "data": {
      "text/html": [
       "<div>\n",
       "<style scoped>\n",
       "    .dataframe tbody tr th:only-of-type {\n",
       "        vertical-align: middle;\n",
       "    }\n",
       "\n",
       "    .dataframe tbody tr th {\n",
       "        vertical-align: top;\n",
       "    }\n",
       "\n",
       "    .dataframe thead th {\n",
       "        text-align: right;\n",
       "    }\n",
       "</style>\n",
       "<table border=\"1\" class=\"dataframe\">\n",
       "  <thead>\n",
       "    <tr style=\"text-align: right;\">\n",
       "      <th></th>\n",
       "      <th>Date</th>\n",
       "      <th>Species</th>\n",
       "      <th>Trap</th>\n",
       "      <th>Longitude</th>\n",
       "      <th>Latitude</th>\n",
       "      <th>Depart</th>\n",
       "      <th>DewPoint</th>\n",
       "      <th>WetBulb</th>\n",
       "      <th>Heat</th>\n",
       "      <th>Sunrise</th>\n",
       "      <th>Sunset</th>\n",
       "      <th>CodeSum</th>\n",
       "      <th>PrecipTotal</th>\n",
       "      <th>StnPressure</th>\n",
       "      <th>SeaLevel</th>\n",
       "      <th>ResultSpeed</th>\n",
       "      <th>ResultDir</th>\n",
       "      <th>AvgSpeed</th>\n",
       "      <th>SprayEffect</th>\n",
       "    </tr>\n",
       "  </thead>\n",
       "  <tbody>\n",
       "    <tr>\n",
       "      <th>10140</th>\n",
       "      <td>2013-09-06</td>\n",
       "      <td>CULEX PIPIENS</td>\n",
       "      <td>T225</td>\n",
       "      <td>-87.731435</td>\n",
       "      <td>41.743402</td>\n",
       "      <td>4.3</td>\n",
       "      <td>60.6</td>\n",
       "      <td>65.1</td>\n",
       "      <td>0.0</td>\n",
       "      <td>518.0</td>\n",
       "      <td>1825.7</td>\n",
       "      <td>['TS', 'RA', 'BR', 'TSRA']</td>\n",
       "      <td>0.1</td>\n",
       "      <td>29.3</td>\n",
       "      <td>29.9</td>\n",
       "      <td>5.8</td>\n",
       "      <td>17.5</td>\n",
       "      <td>7.3</td>\n",
       "      <td>0.0</td>\n",
       "    </tr>\n",
       "    <tr>\n",
       "      <th>7737</th>\n",
       "      <td>2011-09-12</td>\n",
       "      <td>CULEX PIPIENS</td>\n",
       "      <td>T030</td>\n",
       "      <td>-87.716788</td>\n",
       "      <td>41.899230</td>\n",
       "      <td>-2.3</td>\n",
       "      <td>53.1</td>\n",
       "      <td>58.2</td>\n",
       "      <td>1.8</td>\n",
       "      <td>524.0</td>\n",
       "      <td>1815.4</td>\n",
       "      <td>['FG+', 'RA', 'DZ', 'BR']</td>\n",
       "      <td>0.0</td>\n",
       "      <td>29.4</td>\n",
       "      <td>30.0</td>\n",
       "      <td>9.4</td>\n",
       "      <td>9.9</td>\n",
       "      <td>10.0</td>\n",
       "      <td>0.0</td>\n",
       "    </tr>\n",
       "  </tbody>\n",
       "</table>\n",
       "</div>"
      ],
      "text/plain": [
       "             Date        Species  Trap  Longitude   Latitude  Depart  \\\n",
       "10140  2013-09-06  CULEX PIPIENS  T225 -87.731435  41.743402     4.3   \n",
       "7737   2011-09-12  CULEX PIPIENS  T030 -87.716788  41.899230    -2.3   \n",
       "\n",
       "       DewPoint  WetBulb  Heat  Sunrise  Sunset                     CodeSum  \\\n",
       "10140      60.6     65.1   0.0    518.0  1825.7  ['TS', 'RA', 'BR', 'TSRA']   \n",
       "7737       53.1     58.2   1.8    524.0  1815.4   ['FG+', 'RA', 'DZ', 'BR']   \n",
       "\n",
       "       PrecipTotal  StnPressure  SeaLevel  ResultSpeed  ResultDir  AvgSpeed  \\\n",
       "10140          0.1         29.3      29.9          5.8       17.5       7.3   \n",
       "7737           0.0         29.4      30.0          9.4        9.9      10.0   \n",
       "\n",
       "       SprayEffect  \n",
       "10140          0.0  \n",
       "7737           0.0  "
      ]
     },
     "execution_count": 72,
     "metadata": {},
     "output_type": "execute_result"
    }
   ],
   "source": [
    "X_train.drop(columns=drop_features).head(2)"
   ]
  },
  {
   "cell_type": "code",
   "execution_count": 73,
   "metadata": {},
   "outputs": [
    {
     "data": {
      "text/plain": [
       "Species\n",
       "CULEX ERRATICUS           0.000000\n",
       "CULEX PIPIENS             0.092150\n",
       "CULEX PIPIENS/RESTUANS    0.053501\n",
       "CULEX RESTUANS            0.016256\n",
       "CULEX SALINARIUS          0.000000\n",
       "CULEX TARSALIS            0.000000\n",
       "CULEX TERRITANS           0.000000\n",
       "Name: WnvPresent, dtype: float64"
      ]
     },
     "execution_count": 73,
     "metadata": {},
     "output_type": "execute_result"
    }
   ],
   "source": [
    "# check which mosquitos carry the virus\n",
    "train.groupby('Species')['WnvPresent'].mean()"
   ]
  },
  {
   "cell_type": "code",
   "execution_count": 74,
   "metadata": {},
   "outputs": [],
   "source": [
    "# drop Trap ID\n",
    "drop_features.append('Trap')"
   ]
  },
  {
   "cell_type": "code",
   "execution_count": 75,
   "metadata": {},
   "outputs": [],
   "source": [
    "# function to prepare dataset for modeling\n",
    "\n",
    "def process_features(df, drop_cols):\n",
    "    \n",
    "    df.loc[:,'Date'] = pd.to_datetime(df['Date'])\n",
    "    df.loc[:,'Date'] = pd.to_numeric(df['Date'])\n",
    "    df.drop(columns = drop_cols, inplace = True)\n",
    "\n",
    "    #df = pd.get_dummies(df, columns=['Species'])\n",
    "    \n",
    "    # flag on mosiquto type - only pipiens/restuans appear to carry the virus\n",
    "    carriers = ['CULEX PIPIENS', 'CULEX PIPIENS/RESTUANS', 'CULEX RESTUANS']\n",
    "    for carrier in carriers:\n",
    "        df['Species_'+carrier] = df['Species'].map(lambda x: 1 if x==carrier else 0)\n",
    "    #df['Species_OTHER'] = df['Species'].map(lambda x: 1 if x not in carriers else 0)\n",
    "    df.drop(columns = ['Species'], inplace=True)\n",
    "    \n",
    "    # create dummies for weather codes\n",
    "    \n",
    "    # replace str object with list\n",
    "    df.loc[:,'CodeSum'] = df['CodeSum'].map(lambda x: re.findall(r'([A-Z\\+\\-]+)', x))\n",
    "    # find all unique codes in the dataframe\n",
    "    codes = []\n",
    "    for value in df['CodeSum'].values:\n",
    "        codes.extend(value)  \n",
    "    codes = set(codes)\n",
    "    # add dummy flags for each unique code\n",
    "    for code in codes:\n",
    "        df[code] = df['CodeSum'].map(lambda x: 1 if code in x else 0)\n",
    "        \n",
    "    df.drop(columns='CodeSum', inplace = True)\n",
    "        \n",
    "    return df"
   ]
  },
  {
   "cell_type": "code",
   "execution_count": 76,
   "metadata": {},
   "outputs": [],
   "source": [
    "X_train = process_features(X_train, drop_features)\n",
    "X_test = process_features(X_test, drop_features)\n",
    "X_train, X_test = X_train.align(X_test, join='left', axis=1, fill_value=0)"
   ]
  },
  {
   "cell_type": "code",
   "execution_count": 77,
   "metadata": {},
   "outputs": [
    {
     "data": {
      "text/html": [
       "<div>\n",
       "<style scoped>\n",
       "    .dataframe tbody tr th:only-of-type {\n",
       "        vertical-align: middle;\n",
       "    }\n",
       "\n",
       "    .dataframe tbody tr th {\n",
       "        vertical-align: top;\n",
       "    }\n",
       "\n",
       "    .dataframe thead th {\n",
       "        text-align: right;\n",
       "    }\n",
       "</style>\n",
       "<table border=\"1\" class=\"dataframe\">\n",
       "  <thead>\n",
       "    <tr style=\"text-align: right;\">\n",
       "      <th></th>\n",
       "      <th>Date</th>\n",
       "      <th>Longitude</th>\n",
       "      <th>Latitude</th>\n",
       "      <th>Depart</th>\n",
       "      <th>DewPoint</th>\n",
       "      <th>WetBulb</th>\n",
       "      <th>Heat</th>\n",
       "      <th>Sunrise</th>\n",
       "      <th>Sunset</th>\n",
       "      <th>PrecipTotal</th>\n",
       "      <th>...</th>\n",
       "      <th>RA</th>\n",
       "      <th>VCTS</th>\n",
       "      <th>HZ</th>\n",
       "      <th>SQ</th>\n",
       "      <th>FU</th>\n",
       "      <th>BCFG</th>\n",
       "      <th>GR</th>\n",
       "      <th>FG+</th>\n",
       "      <th>VCFG</th>\n",
       "      <th>TSRA</th>\n",
       "    </tr>\n",
       "  </thead>\n",
       "  <tbody>\n",
       "    <tr>\n",
       "      <th>10140</th>\n",
       "      <td>1378425600000000000</td>\n",
       "      <td>-87.731435</td>\n",
       "      <td>41.743402</td>\n",
       "      <td>4.3</td>\n",
       "      <td>60.6</td>\n",
       "      <td>65.1</td>\n",
       "      <td>0.0</td>\n",
       "      <td>518.0</td>\n",
       "      <td>1825.7</td>\n",
       "      <td>0.1</td>\n",
       "      <td>...</td>\n",
       "      <td>1</td>\n",
       "      <td>0</td>\n",
       "      <td>0</td>\n",
       "      <td>0</td>\n",
       "      <td>0</td>\n",
       "      <td>0</td>\n",
       "      <td>0</td>\n",
       "      <td>0</td>\n",
       "      <td>0</td>\n",
       "      <td>1</td>\n",
       "    </tr>\n",
       "    <tr>\n",
       "      <th>7737</th>\n",
       "      <td>1315785600000000000</td>\n",
       "      <td>-87.716788</td>\n",
       "      <td>41.899230</td>\n",
       "      <td>-2.3</td>\n",
       "      <td>53.1</td>\n",
       "      <td>58.2</td>\n",
       "      <td>1.8</td>\n",
       "      <td>524.0</td>\n",
       "      <td>1815.4</td>\n",
       "      <td>0.0</td>\n",
       "      <td>...</td>\n",
       "      <td>1</td>\n",
       "      <td>0</td>\n",
       "      <td>0</td>\n",
       "      <td>0</td>\n",
       "      <td>0</td>\n",
       "      <td>0</td>\n",
       "      <td>0</td>\n",
       "      <td>1</td>\n",
       "      <td>0</td>\n",
       "      <td>0</td>\n",
       "    </tr>\n",
       "    <tr>\n",
       "      <th>8079</th>\n",
       "      <td>1317340800000000000</td>\n",
       "      <td>-87.562889</td>\n",
       "      <td>41.766202</td>\n",
       "      <td>-2.7</td>\n",
       "      <td>50.6</td>\n",
       "      <td>53.3</td>\n",
       "      <td>7.3</td>\n",
       "      <td>543.0</td>\n",
       "      <td>1742.4</td>\n",
       "      <td>0.3</td>\n",
       "      <td>...</td>\n",
       "      <td>1</td>\n",
       "      <td>0</td>\n",
       "      <td>0</td>\n",
       "      <td>0</td>\n",
       "      <td>0</td>\n",
       "      <td>0</td>\n",
       "      <td>0</td>\n",
       "      <td>0</td>\n",
       "      <td>0</td>\n",
       "      <td>0</td>\n",
       "    </tr>\n",
       "    <tr>\n",
       "      <th>2449</th>\n",
       "      <td>1187740800000000000</td>\n",
       "      <td>-87.585413</td>\n",
       "      <td>41.726465</td>\n",
       "      <td>-0.6</td>\n",
       "      <td>63.1</td>\n",
       "      <td>66.1</td>\n",
       "      <td>0.1</td>\n",
       "      <td>496.3</td>\n",
       "      <td>1849.3</td>\n",
       "      <td>0.4</td>\n",
       "      <td>...</td>\n",
       "      <td>1</td>\n",
       "      <td>0</td>\n",
       "      <td>1</td>\n",
       "      <td>0</td>\n",
       "      <td>0</td>\n",
       "      <td>0</td>\n",
       "      <td>0</td>\n",
       "      <td>0</td>\n",
       "      <td>0</td>\n",
       "      <td>1</td>\n",
       "    </tr>\n",
       "    <tr>\n",
       "      <th>449</th>\n",
       "      <td>1184716800000000000</td>\n",
       "      <td>-87.648860</td>\n",
       "      <td>41.862292</td>\n",
       "      <td>-1.6</td>\n",
       "      <td>55.4</td>\n",
       "      <td>62.0</td>\n",
       "      <td>0.0</td>\n",
       "      <td>428.4</td>\n",
       "      <td>1926.6</td>\n",
       "      <td>0.0</td>\n",
       "      <td>...</td>\n",
       "      <td>1</td>\n",
       "      <td>1</td>\n",
       "      <td>0</td>\n",
       "      <td>0</td>\n",
       "      <td>0</td>\n",
       "      <td>0</td>\n",
       "      <td>0</td>\n",
       "      <td>0</td>\n",
       "      <td>0</td>\n",
       "      <td>1</td>\n",
       "    </tr>\n",
       "  </tbody>\n",
       "</table>\n",
       "<p>5 rows × 34 columns</p>\n",
       "</div>"
      ],
      "text/plain": [
       "                      Date  Longitude   Latitude  Depart  DewPoint  WetBulb  \\\n",
       "10140  1378425600000000000 -87.731435  41.743402     4.3      60.6     65.1   \n",
       "7737   1315785600000000000 -87.716788  41.899230    -2.3      53.1     58.2   \n",
       "8079   1317340800000000000 -87.562889  41.766202    -2.7      50.6     53.3   \n",
       "2449   1187740800000000000 -87.585413  41.726465    -0.6      63.1     66.1   \n",
       "449    1184716800000000000 -87.648860  41.862292    -1.6      55.4     62.0   \n",
       "\n",
       "       Heat  Sunrise  Sunset  PrecipTotal  ...   RA  VCTS  HZ  SQ  FU  BCFG  \\\n",
       "10140   0.0    518.0  1825.7          0.1  ...    1     0   0   0   0     0   \n",
       "7737    1.8    524.0  1815.4          0.0  ...    1     0   0   0   0     0   \n",
       "8079    7.3    543.0  1742.4          0.3  ...    1     0   0   0   0     0   \n",
       "2449    0.1    496.3  1849.3          0.4  ...    1     0   1   0   0     0   \n",
       "449     0.0    428.4  1926.6          0.0  ...    1     1   0   0   0     0   \n",
       "\n",
       "       GR  FG+  VCFG  TSRA  \n",
       "10140   0    0     0     1  \n",
       "7737    0    1     0     0  \n",
       "8079    0    0     0     0  \n",
       "2449    0    0     0     1  \n",
       "449     0    0     0     1  \n",
       "\n",
       "[5 rows x 34 columns]"
      ]
     },
     "execution_count": 77,
     "metadata": {},
     "output_type": "execute_result"
    }
   ],
   "source": [
    "X_train.head()"
   ]
  },
  {
   "cell_type": "code",
   "execution_count": 78,
   "metadata": {},
   "outputs": [
    {
     "data": {
      "text/html": [
       "<div>\n",
       "<style scoped>\n",
       "    .dataframe tbody tr th:only-of-type {\n",
       "        vertical-align: middle;\n",
       "    }\n",
       "\n",
       "    .dataframe tbody tr th {\n",
       "        vertical-align: top;\n",
       "    }\n",
       "\n",
       "    .dataframe thead th {\n",
       "        text-align: right;\n",
       "    }\n",
       "</style>\n",
       "<table border=\"1\" class=\"dataframe\">\n",
       "  <thead>\n",
       "    <tr style=\"text-align: right;\">\n",
       "      <th></th>\n",
       "      <th>Date</th>\n",
       "      <th>Longitude</th>\n",
       "      <th>Latitude</th>\n",
       "      <th>Depart</th>\n",
       "      <th>DewPoint</th>\n",
       "      <th>WetBulb</th>\n",
       "      <th>Heat</th>\n",
       "      <th>Sunrise</th>\n",
       "      <th>Sunset</th>\n",
       "      <th>PrecipTotal</th>\n",
       "      <th>...</th>\n",
       "      <th>RA</th>\n",
       "      <th>VCTS</th>\n",
       "      <th>HZ</th>\n",
       "      <th>SQ</th>\n",
       "      <th>FU</th>\n",
       "      <th>BCFG</th>\n",
       "      <th>GR</th>\n",
       "      <th>FG+</th>\n",
       "      <th>VCFG</th>\n",
       "      <th>TSRA</th>\n",
       "    </tr>\n",
       "  </thead>\n",
       "  <tbody>\n",
       "    <tr>\n",
       "      <th>1554</th>\n",
       "      <td>1186444800000000000</td>\n",
       "      <td>-87.752329</td>\n",
       "      <td>41.918705</td>\n",
       "      <td>6.0</td>\n",
       "      <td>63.9</td>\n",
       "      <td>69.5</td>\n",
       "      <td>0.0</td>\n",
       "      <td>447.0</td>\n",
       "      <td>1909.1</td>\n",
       "      <td>0.2</td>\n",
       "      <td>...</td>\n",
       "      <td>1</td>\n",
       "      <td>1</td>\n",
       "      <td>1</td>\n",
       "      <td>0</td>\n",
       "      <td>0</td>\n",
       "      <td>0</td>\n",
       "      <td>0</td>\n",
       "      <td>0</td>\n",
       "      <td>0</td>\n",
       "      <td>1</td>\n",
       "    </tr>\n",
       "    <tr>\n",
       "      <th>3181</th>\n",
       "      <td>1189555200000000000</td>\n",
       "      <td>-87.565666</td>\n",
       "      <td>41.704572</td>\n",
       "      <td>5.3</td>\n",
       "      <td>59.4</td>\n",
       "      <td>64.1</td>\n",
       "      <td>0.7</td>\n",
       "      <td>524.0</td>\n",
       "      <td>1815.4</td>\n",
       "      <td>0.1</td>\n",
       "      <td>...</td>\n",
       "      <td>1</td>\n",
       "      <td>0</td>\n",
       "      <td>1</td>\n",
       "      <td>0</td>\n",
       "      <td>0</td>\n",
       "      <td>0</td>\n",
       "      <td>0</td>\n",
       "      <td>0</td>\n",
       "      <td>0</td>\n",
       "      <td>1</td>\n",
       "    </tr>\n",
       "    <tr>\n",
       "      <th>7921</th>\n",
       "      <td>1316131200000000000</td>\n",
       "      <td>-87.805059</td>\n",
       "      <td>41.973845</td>\n",
       "      <td>-1.1</td>\n",
       "      <td>53.1</td>\n",
       "      <td>58.3</td>\n",
       "      <td>3.6</td>\n",
       "      <td>528.0</td>\n",
       "      <td>1808.6</td>\n",
       "      <td>0.0</td>\n",
       "      <td>...</td>\n",
       "      <td>1</td>\n",
       "      <td>0</td>\n",
       "      <td>1</td>\n",
       "      <td>0</td>\n",
       "      <td>1</td>\n",
       "      <td>0</td>\n",
       "      <td>0</td>\n",
       "      <td>1</td>\n",
       "      <td>0</td>\n",
       "      <td>0</td>\n",
       "    </tr>\n",
       "    <tr>\n",
       "      <th>3536</th>\n",
       "      <td>1190592000000000000</td>\n",
       "      <td>-87.585487</td>\n",
       "      <td>41.799282</td>\n",
       "      <td>7.7</td>\n",
       "      <td>53.9</td>\n",
       "      <td>61.3</td>\n",
       "      <td>0.1</td>\n",
       "      <td>536.9</td>\n",
       "      <td>1752.9</td>\n",
       "      <td>0.0</td>\n",
       "      <td>...</td>\n",
       "      <td>0</td>\n",
       "      <td>0</td>\n",
       "      <td>1</td>\n",
       "      <td>0</td>\n",
       "      <td>0</td>\n",
       "      <td>0</td>\n",
       "      <td>0</td>\n",
       "      <td>0</td>\n",
       "      <td>0</td>\n",
       "      <td>0</td>\n",
       "    </tr>\n",
       "    <tr>\n",
       "      <th>3034</th>\n",
       "      <td>1189036800000000000</td>\n",
       "      <td>-87.585413</td>\n",
       "      <td>41.726465</td>\n",
       "      <td>4.0</td>\n",
       "      <td>57.4</td>\n",
       "      <td>63.9</td>\n",
       "      <td>0.0</td>\n",
       "      <td>518.0</td>\n",
       "      <td>1825.7</td>\n",
       "      <td>0.0</td>\n",
       "      <td>...</td>\n",
       "      <td>1</td>\n",
       "      <td>0</td>\n",
       "      <td>0</td>\n",
       "      <td>0</td>\n",
       "      <td>0</td>\n",
       "      <td>0</td>\n",
       "      <td>0</td>\n",
       "      <td>0</td>\n",
       "      <td>0</td>\n",
       "      <td>0</td>\n",
       "    </tr>\n",
       "  </tbody>\n",
       "</table>\n",
       "<p>5 rows × 34 columns</p>\n",
       "</div>"
      ],
      "text/plain": [
       "                     Date  Longitude   Latitude  Depart  DewPoint  WetBulb  \\\n",
       "1554  1186444800000000000 -87.752329  41.918705     6.0      63.9     69.5   \n",
       "3181  1189555200000000000 -87.565666  41.704572     5.3      59.4     64.1   \n",
       "7921  1316131200000000000 -87.805059  41.973845    -1.1      53.1     58.3   \n",
       "3536  1190592000000000000 -87.585487  41.799282     7.7      53.9     61.3   \n",
       "3034  1189036800000000000 -87.585413  41.726465     4.0      57.4     63.9   \n",
       "\n",
       "      Heat  Sunrise  Sunset  PrecipTotal  ...   RA  VCTS  HZ  SQ  FU  BCFG  \\\n",
       "1554   0.0    447.0  1909.1          0.2  ...    1     1   1   0   0     0   \n",
       "3181   0.7    524.0  1815.4          0.1  ...    1     0   1   0   0     0   \n",
       "7921   3.6    528.0  1808.6          0.0  ...    1     0   1   0   1     0   \n",
       "3536   0.1    536.9  1752.9          0.0  ...    0     0   1   0   0     0   \n",
       "3034   0.0    518.0  1825.7          0.0  ...    1     0   0   0   0     0   \n",
       "\n",
       "      GR  FG+  VCFG  TSRA  \n",
       "1554   0    0     0     1  \n",
       "3181   0    0     0     1  \n",
       "7921   0    1     0     0  \n",
       "3536   0    0     0     0  \n",
       "3034   0    0     0     0  \n",
       "\n",
       "[5 rows x 34 columns]"
      ]
     },
     "execution_count": 78,
     "metadata": {},
     "output_type": "execute_result"
    }
   ],
   "source": [
    "X_test.head()"
   ]
  },
  {
   "cell_type": "markdown",
   "metadata": {},
   "source": [
    "### BALANCING CLASSES "
   ]
  },
  {
   "cell_type": "code",
   "execution_count": 79,
   "metadata": {},
   "outputs": [],
   "source": [
    "# undersample where no WNV is present\n",
    "np.random.seed(42)\n",
    "indices = np.random.choice(y_train[y_train['WnvPresent']==0].index,size=6000, replace=False).tolist()"
   ]
  },
  {
   "cell_type": "code",
   "execution_count": 80,
   "metadata": {},
   "outputs": [],
   "source": [
    "# oversample where WNV is present\n",
    "indices.extend(np.random.choice(y_train[y_train['WnvPresent']==1].index,size=4000, replace=True).tolist())"
   ]
  },
  {
   "cell_type": "code",
   "execution_count": 81,
   "metadata": {},
   "outputs": [],
   "source": [
    "X_train_bal = X_train.loc[indices,:]\n",
    "y_train_bal = y_train.loc[indices,:]"
   ]
  },
  {
   "cell_type": "markdown",
   "metadata": {},
   "source": [
    "#### MODELING "
   ]
  },
  {
   "cell_type": "code",
   "execution_count": 82,
   "metadata": {
    "scrolled": true
   },
   "outputs": [
    {
     "name": "stdout",
     "output_type": "stream",
     "text": [
      "Accuracy: 0.9474685953559193\n",
      "ROC AUC: 0.5\n",
      "Confusion matrix:\n"
     ]
    },
    {
     "data": {
      "image/png": "[encoded data removed]",
      "text/plain": [
       "<matplotlib.figure.Figure at 0x1166cf978>"
      ]
     },
     "metadata": {},
     "output_type": "display_data"
    }
   ],
   "source": [
    "# Baseline \n",
    "\n",
    "print('Accuracy:', max(y_test['WnvPresent'].value_counts()/y_test.shape[0]))\n",
    "\n",
    "y_hat_prob1 = [0 for _ in range(y_test.shape[0])]\n",
    "print('ROC AUC:', roc_auc_score(y_test, y_hat_prob1))\n",
    "\n",
    "y_hat = [0 for _ in range(y_test.shape[0])]\n",
    "print('Confusion matrix:')\n",
    "sns.heatmap(confusion_matrix(y_test, y_hat), annot=True, cmap='magma_r', \n",
    "            xticklabels=['Predicted 0', 'Predicted 1'], yticklabels=['True 0', 'True 1']);"
   ]
  },
  {
   "cell_type": "code",
   "execution_count": 83,
   "metadata": {},
   "outputs": [],
   "source": [
    "pipe = Pipeline([\n",
    "    ('ss', StandardScaler()),\n",
    "    ('knn', KNeighborsClassifier())\n",
    "])"
   ]
  },
  {
   "cell_type": "code",
   "execution_count": 84,
   "metadata": {},
   "outputs": [
    {
     "name": "stdout",
     "output_type": "stream",
     "text": [
      "train: 0.9513897702754157\n",
      "test: 0.9421393224210126\n"
     ]
    }
   ],
   "source": [
    "# KNN\n",
    "\n",
    "knn = KNeighborsClassifier(n_neighbors = 5)\n",
    "knn.fit(X_train, y_train)\n",
    "print('train:', knn.score(X_train, y_train))\n",
    "print('test:', knn.score(X_test, y_test))  "
   ]
  },
  {
   "cell_type": "code",
   "execution_count": 85,
   "metadata": {
    "scrolled": true
   },
   "outputs": [
    {
     "data": {
      "text/plain": [
       "(0.9475821804797563, {'n_neighbors': 16})"
      ]
     },
     "execution_count": 85,
     "metadata": {},
     "output_type": "execute_result"
    }
   ],
   "source": [
    "# GridsearchCV for hyperparameters \n",
    "\n",
    "knn_params = {'n_neighbors' : [3,5,16,25,30]}\n",
    "\n",
    "gs = GridSearchCV(KNeighborsClassifier(), param_grid = knn_params)\n",
    "gs.fit(X_train, y_train)\n",
    "\n",
    "# Results\n",
    "gs.best_score_, gs.best_params_"
   ]
  },
  {
   "cell_type": "code",
   "execution_count": 86,
   "metadata": {
    "scrolled": false
   },
   "outputs": [
    {
     "name": "stdout",
     "output_type": "stream",
     "text": [
      "train score:  0.9479629394593222\n",
      "test score:  0.948229920060906\n"
     ]
    }
   ],
   "source": [
    "# Running with new n_estimators from GridSearchCV\n",
    "\n",
    "knn = KNeighborsClassifier(n_neighbors = 16)\n",
    "knn.fit(X_train, y_train)\n",
    "print('train score: ' , knn.score(X_train, y_train))\n",
    "print('test score: ' , knn.score(X_test, y_test))\n"
   ]
  },
  {
   "cell_type": "code",
   "execution_count": 87,
   "metadata": {},
   "outputs": [],
   "source": [
    "# Grid search lowers score, original KNN model is running better. "
   ]
  },
  {
   "cell_type": "code",
   "execution_count": 88,
   "metadata": {},
   "outputs": [
    {
     "name": "stdout",
     "output_type": "stream",
     "text": [
      "train score:  0.9475821804797563\n",
      "test score:  0.9474685953559193\n"
     ]
    }
   ],
   "source": [
    "# Running with new n_estimators from GridSearchCV\n",
    "\n",
    "knn = KNeighborsClassifier(n_neighbors = 25)\n",
    "knn2 = knn.fit(X_train, y_train)\n",
    "print('train score: ' , knn2.score(X_train, y_train))\n",
    "print('test score: ' , knn2.score(X_test, y_test))\n"
   ]
  },
  {
   "cell_type": "code",
   "execution_count": null,
   "metadata": {},
   "outputs": [],
   "source": [
    "thresholds = [0.02,0.05,0.1, 0.2, 0.5, 0.8]\n",
    "\n",
    "fig = plt.figure(figsize=(20, 12))\n",
    "\n",
    "for i, threshold in enumerate(thresholds):\n",
    "    pred = gs.predict_proba(X_test)\n",
    "    y_test_hat = []\n",
    "    for obs in range(len(pred)):\n",
    "        if pred[obs][1] < threshold:\n",
    "            y_test_hat.append(0)\n",
    "        else:\n",
    "            y_test_hat.append(1)\n",
    "\n",
    "    ax = fig.add_subplot(3, 4, i*2+1)\n",
    "    conf_mat = confusion_matrix(y_test, y_test_hat)\n",
    "    sns.heatmap(conf_mat, annot=True, cmap='magma_r', \n",
    "                xticklabels=['Predicted 0', 'Predicted 1'], yticklabels=['True 0', 'True 1']);\n",
    "    \n",
    "    ax = fig.add_subplot(3, 4, i*2+2)\n",
    "    text = 'Threshold: '+str(threshold)+ '\\n'\n",
    "    text += 'Accuracy: '+str(round(accuracy_score(y_test, y_test_hat), 4))+ '\\n'\n",
    "    text += 'Sensitivity: '+ str(round(conf_mat[1,1]/(conf_mat[1,1]+conf_mat[1,0]), 4))+ '\\n' # TP/(FN+TP)\n",
    "    text += 'Specificity: '+str(round(conf_mat[0,0]/(conf_mat[0,0]+conf_mat[0,1]), 4)) # TN/(FP+TN)\n",
    "    \n",
    "    ax.text(x=0,y=0.5,s=text, fontsize=20)\n",
    "    ax.axis('off')"
   ]
  },
  {
   "cell_type": "code",
   "execution_count": null,
   "metadata": {
    "scrolled": true
   },
   "outputs": [],
   "source": [
    "# SVM Model \n",
    "\n",
    "clf = svm.SVC()\n",
    "clf.fit(X_train, y_train)\n",
    "print('train score: ' , clf.score(X_train, y_train))\n",
    "print('test score: ' , clf.score(X_test, y_test))\n"
   ]
  },
  {
   "cell_type": "code",
   "execution_count": null,
   "metadata": {},
   "outputs": [],
   "source": [
    "# GridSearch the SVM Model for parameters \n",
    "# This thing takes way too long, I don't know if it's causing a crash or what's going on. \n",
    "\n",
    "clf = svm.SVC()\n",
    "\n",
    "gamma_range = np.logspace()\n",
    "C_range = np.logspace()\n",
    "kernel_range = ['rbf', 'sigmoid', 'linear', 'poly']\n",
    "\n",
    "param_grid = dict(gamma=gamma_range, C=C_range, kernel=kernel_range)\n",
    "\n",
    "grid = GridSearchCV(clf, param_grid, cv=3, scoring='accuracy', verbose=1)\n",
    "grid.fit(X_train, y_train)"
   ]
  },
  {
   "cell_type": "code",
   "execution_count": null,
   "metadata": {},
   "outputs": [],
   "source": []
  }
 ],
 "metadata": {
  "kernelspec": {
   "display_name": "Python 3",
   "language": "python",
   "name": "python3"
  },
  "language_info": {
   "codemirror_mode": {
    "name": "ipython",
    "version": 3
   },
   "file_extension": ".py",
   "mimetype": "text/x-python",
   "name": "python",
   "nbconvert_exporter": "python",
   "pygments_lexer": "ipython3",
   "version": "3.6.4"
  }
 },
 "nbformat": 4,
 "nbformat_minor": 2
}
