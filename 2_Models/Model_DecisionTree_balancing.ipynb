{
 "cells": [
  {
   "cell_type": "code",
   "execution_count": 1,
   "metadata": {},
   "outputs": [],
   "source": [
    "import pandas as pd\n",
    "train = pd.read_csv('../datasets/train.csv')"
   ]
  },
  {
   "cell_type": "code",
   "execution_count": 276,
   "metadata": {},
   "outputs": [],
   "source": [
    "X = train\n",
    "y = train['WnvPresent'].to_frame()\n",
    "\n",
    "#X.head()\n",
    "#y.head()"
   ]
  },
  {
   "cell_type": "code",
   "execution_count": 277,
   "metadata": {},
   "outputs": [
    {
     "name": "stdout",
     "output_type": "stream",
     "text": [
      "(7879, 12) (7879, 1)\n",
      "(2627, 12) (2627, 1)\n"
     ]
    }
   ],
   "source": [
    "from sklearn.model_selection import train_test_split\n",
    "X_train, X_test, y_train, y_test = train_test_split(X, y, random_state = 42, stratify = y, test_size = 0.25)\n",
    "\n",
    "print(X_train.shape, y_train.shape)\n",
    "print(X_test.shape, y_test.shape)"
   ]
  },
  {
   "cell_type": "code",
   "execution_count": 278,
   "metadata": {},
   "outputs": [
    {
     "name": "stdout",
     "output_type": "stream",
     "text": [
      "0    7466\n",
      "1     413\n",
      "Name: WnvPresent, dtype: int64 \n",
      "\n",
      " 0: 0.9475821804797563 1: 0.052417819520243686 \n",
      "\n",
      " Total: 7879 \n",
      "\n"
     ]
    }
   ],
   "source": [
    "#balance unbalanced class in training set of training set: X_train\n",
    "print(y_train['WnvPresent'].value_counts(), \n",
    "      '\\n\\n',\n",
    "      '0:', y_train['WnvPresent'].value_counts()[0] / len(y_train['WnvPresent']),\n",
    "      '1:', y_train['WnvPresent'].value_counts()[1] / len(y_train['WnvPresent']),\n",
    "      '\\n\\n',\n",
    "      'Total:', len(y_train['WnvPresent']), '\\n')"
   ]
  },
  {
   "cell_type": "code",
   "execution_count": 289,
   "metadata": {},
   "outputs": [],
   "source": [
    "#balancing class 0 vs 1 to 2/3 v 1/3 ratio (Matt's lec)\n",
    "    #rounded to integer values\n",
    "        #(2/3)*7879 = 5253\n",
    "        #(1/3)*7879 = 2626\n",
    "\n",
    "import numpy as np\n",
    "C0_ratio = 2/3\n",
    "C1_ratio = 1 - C0_ratio\n",
    "Total = len(y_train['WnvPresent'])\n",
    "\n",
    "#from class 0 observations, random sample 5253\n",
    "    #rows from X_train that are class 0\n",
    "X_train_C0_rows = [i for i in X_train[X_train['WnvPresent'] == 0].index]\n",
    "X_train_C0_undersample = np.random.choice(X_train_C0_rows, int(round(C0_ratio*Total, 0)), replace = False)\n",
    "\n",
    "X_train_C1_rows = [i for i in X_train[X_train['WnvPresent'] == 1].index]\n",
    "X_train_C1_oversample = np.random.choice(X_train_C1_rows, int(round(C1_ratio*Total, 0)), replace = True)"
   ]
  },
  {
   "cell_type": "code",
   "execution_count": 290,
   "metadata": {},
   "outputs": [
    {
     "data": {
      "text/plain": [
       "9337     17\n",
       "5742     15\n",
       "9534     14\n",
       "10501    14\n",
       "2944     12\n",
       "2559     12\n",
       "9012     12\n",
       "10276    12\n",
       "7944     12\n",
       "7979     12\n",
       "2460     12\n",
       "611      11\n",
       "2667     11\n",
       "2541     11\n",
       "10346    11\n",
       "9517     11\n",
       "1802     11\n",
       "1671     11\n",
       "2633     11\n",
       "7975     11\n",
       "8721     11\n",
       "9949     11\n",
       "1519     11\n",
       "9614     11\n",
       "10099    11\n",
       "9879     11\n",
       "3155     10\n",
       "10032    10\n",
       "2459     10\n",
       "5497     10\n",
       "         ..\n",
       "784       3\n",
       "7123      3\n",
       "3142      3\n",
       "2595      3\n",
       "9535      3\n",
       "2519      3\n",
       "5487      3\n",
       "9630      3\n",
       "1818      2\n",
       "9870      2\n",
       "10183     2\n",
       "2011      2\n",
       "10264     2\n",
       "1869      2\n",
       "10338     2\n",
       "2191      2\n",
       "9044      2\n",
       "1955      2\n",
       "2192      2\n",
       "3060      2\n",
       "9767      2\n",
       "8490      2\n",
       "1502      2\n",
       "9544      1\n",
       "1561      1\n",
       "9758      1\n",
       "10190     1\n",
       "10237     1\n",
       "10342     1\n",
       "5510      1\n",
       "Length: 411, dtype: int64"
      ]
     },
     "execution_count": 290,
     "metadata": {},
     "output_type": "execute_result"
    }
   ],
   "source": [
    "#check result\n",
    "len(X_train_C0_undersample), len(X_train_C1_oversample)\n",
    "\n",
    "#see how many rows of C1 are repeat values\n",
    "pd.Series(X_train_C1_oversample).value_counts()"
   ]
  },
  {
   "cell_type": "code",
   "execution_count": 291,
   "metadata": {},
   "outputs": [],
   "source": [
    "X_train_C0_undersample = list(X_train_C0_undersample)\n",
    "X_train_C1_oversample = list(X_train_C1_oversample)"
   ]
  },
  {
   "cell_type": "code",
   "execution_count": 293,
   "metadata": {},
   "outputs": [
    {
     "data": {
      "text/plain": [
       "7878"
      ]
     },
     "execution_count": 293,
     "metadata": {},
     "output_type": "execute_result"
    }
   ],
   "source": [
    "#X_train_balanced = X_train_C0_undersample + X_train_C1_oversample\n",
    "len(X_train_C0_undersample)\n",
    "len(X_train_C1_oversample)\n",
    "len(X_train_balanced)"
   ]
  },
  {
   "cell_type": "code",
   "execution_count": 300,
   "metadata": {},
   "outputs": [],
   "source": [
    "X_train = X_train.loc[X_train_balanced, :]\n",
    "y_train = y_train.loc[X_train_balanced, :]"
   ]
  },
  {
   "cell_type": "code",
   "execution_count": 301,
   "metadata": {},
   "outputs": [
    {
     "data": {
      "text/plain": [
       "0    5252\n",
       "1    2626\n",
       "Name: WnvPresent, dtype: int64"
      ]
     },
     "execution_count": 301,
     "metadata": {},
     "output_type": "execute_result"
    }
   ],
   "source": [
    "y_train['WnvPresent'].value_counts()"
   ]
  },
  {
   "cell_type": "code",
   "execution_count": 302,
   "metadata": {},
   "outputs": [],
   "source": [
    "#drop target from X_train, X_test\n",
    "X_train = X_train.drop(['WnvPresent'], axis = 1)\n",
    "X_test = X_test.drop(['WnvPresent'], axis = 1)"
   ]
  },
  {
   "cell_type": "code",
   "execution_count": 305,
   "metadata": {},
   "outputs": [],
   "source": [
    "#X_train.head()\n",
    "#X_test.head()"
   ]
  },
  {
   "cell_type": "code",
   "execution_count": 221,
   "metadata": {},
   "outputs": [
    {
     "name": "stdout",
     "output_type": "stream",
     "text": [
      "5252\n"
     ]
    }
   ],
   "source": [
    "#create dataframe of sampled values\n",
    "counter_C0 = 0\n",
    "\n",
    "for i in X_train.index:\n",
    "    if i in X_train_C0_undersample:\n",
    "        #print(i, 'yes')\n",
    "        counter_C0 += 1\n",
    "        \n",
    "print(counter_C0)"
   ]
  },
  {
   "cell_type": "code",
   "execution_count": 223,
   "metadata": {},
   "outputs": [
    {
     "name": "stdout",
     "output_type": "stream",
     "text": [
      "413\n"
     ]
    }
   ],
   "source": [
    "counter_C1 = 0\n",
    "\n",
    "for i in X_train.index:\n",
    "    if i in X_train_C1_oversample:\n",
    "        #print(i, 'yes')\n",
    "        counter_C1 += 1\n",
    "\n",
    "print(counter_C1)"
   ]
  }
 ],
 "metadata": {
  "kernelspec": {
   "display_name": "Python [conda env:dsi]",
   "language": "python",
   "name": "conda-env-dsi-py"
  },
  "language_info": {
   "codemirror_mode": {
    "name": "ipython",
    "version": 3
   },
   "file_extension": ".py",
   "mimetype": "text/x-python",
   "name": "python",
   "nbconvert_exporter": "python",
   "pygments_lexer": "ipython3",
   "version": "3.6.5"
  }
 },
 "nbformat": 4,
 "nbformat_minor": 2
}
