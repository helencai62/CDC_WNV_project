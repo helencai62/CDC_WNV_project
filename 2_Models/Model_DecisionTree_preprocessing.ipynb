{
 "cells": [
  {
   "cell_type": "code",
   "execution_count": 1,
   "metadata": {},
   "outputs": [],
   "source": [
    "import pandas as pd\n",
    "train = pd.read_csv('../datasets/train_merge_all.csv')\n",
    "test = pd.read_csv('../datasets/test_merge_all.csv')\n",
    "\n",
    "train = train.drop(['Unnamed: 0', 'Unnamed: 0.1', 'Unnamed: 0.1.1'], axis = 1)\n",
    "test = test.drop(['Unnamed: 0', 'Unnamed: 0.1', 'Unnamed: 0.1.1'], axis = 1)"
   ]
  },
  {
   "cell_type": "code",
   "execution_count": 3,
   "metadata": {},
   "outputs": [],
   "source": [
    "#attempt 1\n",
    "#all_codesum = ['+FC','FC','TS','GR','RA','DZ','SN','SG','GS','PL','IC','FG+','FG','BR','UP','HZ','FU','VA','DU',\n",
    "#               'DS','PO','SA','SS','PY','SQ','DR','SH','FZ','MI','PR','BC','BL','VC']"
   ]
  },
  {
   "cell_type": "code",
   "execution_count": 14,
   "metadata": {},
   "outputs": [],
   "source": [
    "#for col in train.iloc[:, 28:].columns:\n",
    "    #print(col)\n",
    "#    train[col] = 1\n",
    "    \n",
    "#train.iloc[:, 28:].head()"
   ]
  },
  {
   "cell_type": "code",
   "execution_count": 15,
   "metadata": {},
   "outputs": [],
   "source": [
    "#for i, codesum_list in enumerate(train['CodeSum']):\n",
    "    #print(i, codesum_list)\n",
    "    \n",
    "    #for ind in codesum_list.split(','):\n",
    "        #remove punctuation\n",
    "        #ind = ind.replace(\"[\", \"\").replace(\"'\", \"\").replace(\"]\", \"\").replace(\" \", \"\")\n",
    "        #print(ind)\n",
    "        \n",
    "#    for col in train.iloc[:, 28:].columns: \n",
    "        #print(col)\n",
    "#        if col in codesum_list:\n",
    "#            train[col][i] = 1\n",
    "#        else:\n",
    "#            train[col][i] = 0"
   ]
  },
  {
   "cell_type": "code",
   "execution_count": 23,
   "metadata": {},
   "outputs": [],
   "source": [
    "import regex as re\n",
    "\n",
    "# replace str object with list\n",
    "train['CodeSum'] = train['CodeSum'].map(lambda x: re.findall(r'([A-Z\\+\\-]+)', x))"
   ]
  },
  {
   "cell_type": "code",
   "execution_count": 24,
   "metadata": {},
   "outputs": [],
   "source": [
    "# find all unique codes in the dataframe\n",
    "codes = []\n",
    "for value in train['CodeSum'].values:\n",
    "    codes.extend(value)  \n",
    "codes = set(codes)"
   ]
  },
  {
   "cell_type": "code",
   "execution_count": 25,
   "metadata": {},
   "outputs": [],
   "source": [
    "# add dummy flags for each unique code\n",
    "for code in codes:\n",
    "    train[code] = train['CodeSum'].map(lambda x: 1 if code in x else 0)"
   ]
  },
  {
   "cell_type": "code",
   "execution_count": 19,
   "metadata": {},
   "outputs": [
    {
     "data": {
      "text/plain": [
       "0    [RA, HZ, BR, TSRA]\n",
       "1    [RA, HZ, BR, TSRA]\n",
       "2    [RA, HZ, BR, TSRA]\n",
       "3    [RA, HZ, BR, TSRA]\n",
       "4    [RA, HZ, BR, TSRA]\n",
       "Name: CodeSum, dtype: object"
      ]
     },
     "execution_count": 19,
     "metadata": {},
     "output_type": "execute_result"
    }
   ],
   "source": [
    "train['CodeSum'].head(5)"
   ]
  },
  {
   "cell_type": "code",
   "execution_count": 21,
   "metadata": {},
   "outputs": [
    {
     "data": {
      "text/html": [
       "<div>\n",
       "<style scoped>\n",
       "    .dataframe tbody tr th:only-of-type {\n",
       "        vertical-align: middle;\n",
       "    }\n",
       "\n",
       "    .dataframe tbody tr th {\n",
       "        vertical-align: top;\n",
       "    }\n",
       "\n",
       "    .dataframe thead th {\n",
       "        text-align: right;\n",
       "    }\n",
       "</style>\n",
       "<table border=\"1\" class=\"dataframe\">\n",
       "  <thead>\n",
       "    <tr style=\"text-align: right;\">\n",
       "      <th></th>\n",
       "      <th>RA</th>\n",
       "      <th>HZ</th>\n",
       "      <th>BR</th>\n",
       "      <th>TSRA</th>\n",
       "      <th>VCTS</th>\n",
       "    </tr>\n",
       "  </thead>\n",
       "  <tbody>\n",
       "    <tr>\n",
       "      <th>0</th>\n",
       "      <td>1</td>\n",
       "      <td>1</td>\n",
       "      <td>1</td>\n",
       "      <td>1</td>\n",
       "      <td>0</td>\n",
       "    </tr>\n",
       "    <tr>\n",
       "      <th>1</th>\n",
       "      <td>1</td>\n",
       "      <td>1</td>\n",
       "      <td>1</td>\n",
       "      <td>1</td>\n",
       "      <td>0</td>\n",
       "    </tr>\n",
       "    <tr>\n",
       "      <th>2</th>\n",
       "      <td>1</td>\n",
       "      <td>1</td>\n",
       "      <td>1</td>\n",
       "      <td>1</td>\n",
       "      <td>0</td>\n",
       "    </tr>\n",
       "    <tr>\n",
       "      <th>3</th>\n",
       "      <td>1</td>\n",
       "      <td>1</td>\n",
       "      <td>1</td>\n",
       "      <td>1</td>\n",
       "      <td>0</td>\n",
       "    </tr>\n",
       "    <tr>\n",
       "      <th>4</th>\n",
       "      <td>1</td>\n",
       "      <td>1</td>\n",
       "      <td>1</td>\n",
       "      <td>1</td>\n",
       "      <td>0</td>\n",
       "    </tr>\n",
       "    <tr>\n",
       "      <th>5</th>\n",
       "      <td>1</td>\n",
       "      <td>1</td>\n",
       "      <td>1</td>\n",
       "      <td>1</td>\n",
       "      <td>0</td>\n",
       "    </tr>\n",
       "  </tbody>\n",
       "</table>\n",
       "</div>"
      ],
      "text/plain": [
       "   RA  HZ  BR  TSRA  VCTS\n",
       "0   1   1   1     1     0\n",
       "1   1   1   1     1     0\n",
       "2   1   1   1     1     0\n",
       "3   1   1   1     1     0\n",
       "4   1   1   1     1     0\n",
       "5   1   1   1     1     0"
      ]
     },
     "execution_count": 21,
     "metadata": {},
     "output_type": "execute_result"
    }
   ],
   "source": [
    "train.loc[:5, ['RA', 'HZ', 'BR', 'TSRA', 'VCTS']]"
   ]
  }
 ],
 "metadata": {
  "kernelspec": {
   "display_name": "Python [conda env:dsi]",
   "language": "python",
   "name": "conda-env-dsi-py"
  },
  "language_info": {
   "codemirror_mode": {
    "name": "ipython",
    "version": 3
   },
   "file_extension": ".py",
   "mimetype": "text/x-python",
   "name": "python",
   "nbconvert_exporter": "python",
   "pygments_lexer": "ipython3",
   "version": "3.6.5"
  }
 },
 "nbformat": 4,
 "nbformat_minor": 2
}
