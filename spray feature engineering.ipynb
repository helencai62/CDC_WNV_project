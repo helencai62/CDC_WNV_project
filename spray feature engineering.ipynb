{
 "cells": [
  {
   "cell_type": "code",
   "execution_count": 25,
   "metadata": {},
   "outputs": [],
   "source": [
    "import pandas as pd\n",
    "import numpy as np\n",
    "from sklearn.metrics import pairwise_distances\n",
    "\n",
    "%matplotlib inline"
   ]
  },
  {
   "cell_type": "code",
   "execution_count": 26,
   "metadata": {},
   "outputs": [],
   "source": [
    "# load data\n",
    "spray = pd.read_csv('./assets/spray_clean.csv', index_col='Unnamed: 0')\n",
    "loc_train = pd.read_csv('./assets/train.csv')\n",
    "loc_test = pd.read_csv('./assets/test.csv')"
   ]
  },
  {
   "cell_type": "code",
   "execution_count": 27,
   "metadata": {},
   "outputs": [],
   "source": [
    "# convert dates to datetimes\n",
    "loc_train['Date'] = pd.to_datetime(loc_train['Date'])\n",
    "loc_test['Date'] = pd.to_datetime(loc_test['Date'])\n",
    "spray['Date'] = pd.to_datetime(spray['Date'])\n",
    "spray['Time'] = pd.to_datetime(spray['Time'])"
   ]
  },
  {
   "cell_type": "code",
   "execution_count": 41,
   "metadata": {},
   "outputs": [],
   "source": [
    "# feature engineer 'days from last spray' at each trap location\n",
    "\n",
    "def add_days_from_last_spray(loc_df, spray_df, dist_tol=0.005, min_sprays=5):\n",
    "    \n",
    "    # pull out unique traps and locations of them\n",
    "    trap_df = loc_df.drop_duplicates(subset='Trap')[['Trap', 'Latitude','Longitude']]\n",
    "    \n",
    "    # this will be a list of all the dates that each trap has been sprayed\n",
    "    spray_dates = []\n",
    "    \n",
    "    # loop through (unique) traps\n",
    "    for trap_id in trap_df.index:\n",
    "        \n",
    "        # check if distance from trap to each spray is less than tolerance\n",
    "        trap_lat = trap_df.loc[trap_id, 'Latitude']\n",
    "        trap_long = trap_df.loc[trap_id, 'Longitude']\n",
    "        spray_df['Distance'] = (pairwise_distances([[trap_lat, trap_long]], spray_df[['Latitude', 'Longitude']])[0] < dist_tol)\n",
    "        \n",
    "        # list of all the dates that this trap has been sprayed\n",
    "        trap_spray_dates = []\n",
    "        for date in spray_df['Date'].unique():\n",
    "            # if trap has been sprayed 'enough' on this date, add date to trap_spray_dates\n",
    "            if spray_df[(spray_df['Date']==date) & (spray_df['Distance']==1)].shape[0] > min_sprays:\n",
    "                trap_spray_dates.append(date)\n",
    "        \n",
    "        spray_dates.append(trap_spray_dates)\n",
    "    \n",
    "    spray_df.drop(columns='Distance', inplace=True)\n",
    "    \n",
    "    # add column to dataframe showing the dates that each unique trap has been sprayed\n",
    "    trap_df['SprayDates'] = spray_dates\n",
    "    \n",
    "    # merge dataframes so that each row in location data has a list of associated dates the trap has been sprayed\n",
    "    loc_df = loc_df.merge(trap_df.drop(columns=['Latitude','Longitude']), how='left', on='Trap', copy = False)\n",
    "    \n",
    "    # this will be a list with the number of days since each location was sprayed\n",
    "    days_from_spray = []\n",
    "    \n",
    "    # loop through each location\n",
    "    for index in loc_df.index:\n",
    "        trap_date = np.datetime64(loc_df.loc[index, 'Date'])\n",
    "        # calculate time difference between trap collection date and dates that trap was sprayed\n",
    "        time_diff = [np.datetime64(x) - trap_date for x in loc_df.loc[index, 'SprayDates']]\n",
    "        # convert time to number of days\n",
    "        day_diff = [x.astype('timedelta64[D]')/np.timedelta64(1, 'D') for x in time_diff]\n",
    "        if len(day_diff) !=0:\n",
    "            # calculate the minimum number of (positive) days since the last spray, and append to list\n",
    "            days_from_spray.append(min([max(x,0) for x in day_diff]))\n",
    "        else:\n",
    "            # if trap has never been sprayed, assign nan\n",
    "            days_from_spray.append(None)\n",
    "        \n",
    "    loc_df['DaysFromSpray'] = days_from_spray\n",
    "    loc_df.drop(columns='SprayDates', inplace=True)\n",
    "    \n",
    "    # set nan values to max value\n",
    "    loc_df['DaysFromSpray'].fillna(value = 2*loc_df['DaysFromSpray'].max(), inplace = True)\n",
    "    \n",
    "    # engineer log(Days+1) as well to flatten out larger numbers once effect of spray has worn off\n",
    "    # add one so that range is still positive\n",
    "    loc_df['LogDays'] = np.log(loc_df['DaysFromSpray']+1)\n",
    "    \n",
    "    return loc_df"
   ]
  },
  {
   "cell_type": "code",
   "execution_count": 42,
   "metadata": {},
   "outputs": [],
   "source": [
    "loc_train = add_days_from_last_spray(loc_train, spray)\n",
    "loc_test = add_days_from_last_spray(loc_test, spray)"
   ]
  },
  {
   "cell_type": "code",
   "execution_count": null,
   "metadata": {},
   "outputs": [],
   "source": [
    "# save to csv\n",
    "loc_train.to_csv('./assets/train_eng.csv')\n",
    "loc_test.to_csv('./assets/test_eng.csv')"
   ]
  }
 ],
 "metadata": {
  "kernelspec": {
   "display_name": "Python [conda env:dsi]",
   "language": "python",
   "name": "conda-env-dsi-py"
  },
  "language_info": {
   "codemirror_mode": {
    "name": "ipython",
    "version": 3
   },
   "file_extension": ".py",
   "mimetype": "text/x-python",
   "name": "python",
   "nbconvert_exporter": "python",
   "pygments_lexer": "ipython3",
   "version": "3.6.5"
  }
 },
 "nbformat": 4,
 "nbformat_minor": 2
}
